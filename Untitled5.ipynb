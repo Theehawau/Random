{
 "cells": [
  {
   "cell_type": "code",
   "execution_count": 1,
   "id": "b1e053a8-e1fa-485a-91f0-42393444e36e",
   "metadata": {},
   "outputs": [],
   "source": [
    "import numpy as np\n",
    "import cv2\n",
    "from imutils import paths\n",
    "import pandas as pd\n",
    "import matplotlib.pyplot as plt\n"
   ]
  },
  {
   "cell_type": "code",
   "execution_count": 2,
   "id": "4d2666cd-7547-4be5-b5c8-59b2b291d3b4",
   "metadata": {},
   "outputs": [],
   "source": [
    "from sklearn.ensemble import IsolationForest\n",
    "import pickle"
   ]
  },
  {
   "cell_type": "code",
   "execution_count": 35,
   "id": "c5ffd88e-6cf8-4a2e-b9db-b7c6b7b513f1",
   "metadata": {},
   "outputs": [],
   "source": [
    "def quantify_image(image, bins=(4, 6, 3)):\n",
    "    # compute a 3D color histogram over the image and normalize it\n",
    "    hist = cv2.calcHist([image], [0], None, [0,128], [0,256])\n",
    "    hist = cv2.normalize(hist, hist).flatten()\n",
    "    # return the histogram\n",
    "    return hist"
   ]
  },
  {
   "cell_type": "code",
   "execution_count": 36,
   "id": "d622889a-60f3-4368-9546-c151d4e3253f",
   "metadata": {},
   "outputs": [],
   "source": [
    "def load_dataset(datasetPath,bins):\n",
    "    # grab the paths to all images in our dataset directory, then\n",
    "    # initialize our lists of images\n",
    "    imagePaths = list(paths.list_images(datasetPath))\n",
    "    # images = []\n",
    "    data = []\n",
    "    # loop over the image paths\n",
    "    for imagePath in imagePaths:\n",
    "        # load the image \n",
    "        image = cv2.imread(imagePath)\n",
    "        # Convert to gray\n",
    "        image = cv2.cvtColor(image, cv2.COLOR_BGR2GRAY) \n",
    "        # get canny image\n",
    "        cannyimg = cv2.Canny(image, 50, 100)\n",
    "        # get contours\n",
    "        contours, heirachy = cv2.findContours(cannyimg, cv2.RETR_TREE, cv2.CHAIN_APPROX_NONE)\n",
    "        # show contours on image\n",
    "        cv2.drawContours(image,contours,-1,(255,255,0),4)\n",
    "        # quantify the contours and update the data list\n",
    "        features = quantify_image(image, bins)\n",
    "        data.append(features)\n",
    "        # data.append(len(contours))\n",
    "        # images.append(imagePath.split('\\\\')[-1])\n",
    "    # return our data list as a NumPy array\n",
    "    # return pd.DataFrame({'Image': images, 'Contours': data})\n",
    "    return np.array(data)"
   ]
  },
  {
   "cell_type": "code",
   "execution_count": 37,
   "id": "7d29caa2-01a6-4cc3-9a71-161f80183a6f",
   "metadata": {},
   "outputs": [
    {
     "name": "stdout",
     "output_type": "stream",
     "text": [
      "[INFO] preparing dataset...\n"
     ]
    },
    {
     "ename": "error",
     "evalue": "OpenCV(4.5.5) D:\\a\\opencv-python\\opencv-python\\opencv\\modules\\imgproc\\src\\histogram.cpp:1292: error: (-215:Assertion failed) rsz == dims*2 || (rsz == 0 && images.depth(0) == CV_8U) in function 'cv::calcHist'\n",
     "output_type": "error",
     "traceback": [
      "\u001b[1;31m---------------------------------------------------------------------------\u001b[0m",
      "\u001b[1;31merror\u001b[0m                                     Traceback (most recent call last)",
      "\u001b[1;32mC:\\Users\\HAWAUT~1\\AppData\\Local\\Temp/ipykernel_3464/2861628820.py\u001b[0m in \u001b[0;36m<module>\u001b[1;34m\u001b[0m\n\u001b[0;32m      1\u001b[0m \u001b[0mprint\u001b[0m\u001b[1;33m(\u001b[0m\u001b[1;34m\"[INFO] preparing dataset...\"\u001b[0m\u001b[1;33m)\u001b[0m\u001b[1;33m\u001b[0m\u001b[1;33m\u001b[0m\u001b[0m\n\u001b[1;32m----> 2\u001b[1;33m \u001b[0mdata\u001b[0m \u001b[1;33m=\u001b[0m \u001b[0mload_dataset\u001b[0m\u001b[1;33m(\u001b[0m\u001b[1;34m'C:\\\\Users\\\\Hawau Toyin\\\\Downloads/capsule/train/good'\u001b[0m\u001b[1;33m,\u001b[0m \u001b[0mbins\u001b[0m\u001b[1;33m=\u001b[0m\u001b[1;33m(\u001b[0m\u001b[1;36m3\u001b[0m\u001b[1;33m,\u001b[0m \u001b[1;36m3\u001b[0m\u001b[1;33m,\u001b[0m \u001b[1;36m3\u001b[0m\u001b[1;33m)\u001b[0m\u001b[1;33m)\u001b[0m\u001b[1;33m\u001b[0m\u001b[1;33m\u001b[0m\u001b[0m\n\u001b[0m\u001b[0;32m      3\u001b[0m \u001b[1;31m# train the anomaly detection model\u001b[0m\u001b[1;33m\u001b[0m\u001b[1;33m\u001b[0m\u001b[0m\n\u001b[0;32m      4\u001b[0m \u001b[0mprint\u001b[0m\u001b[1;33m(\u001b[0m\u001b[1;34m\"[INFO] fitting anomaly detection model...\"\u001b[0m\u001b[1;33m)\u001b[0m\u001b[1;33m\u001b[0m\u001b[1;33m\u001b[0m\u001b[0m\n\u001b[0;32m      5\u001b[0m model = IsolationForest(n_estimators=100, contamination=0.01,\n",
      "\u001b[1;32mC:\\Users\\HAWAUT~1\\AppData\\Local\\Temp/ipykernel_3464/3984650235.py\u001b[0m in \u001b[0;36mload_dataset\u001b[1;34m(datasetPath, bins)\u001b[0m\n\u001b[0;32m     18\u001b[0m         \u001b[0mcv2\u001b[0m\u001b[1;33m.\u001b[0m\u001b[0mdrawContours\u001b[0m\u001b[1;33m(\u001b[0m\u001b[0mimage\u001b[0m\u001b[1;33m,\u001b[0m\u001b[0mcontours\u001b[0m\u001b[1;33m,\u001b[0m\u001b[1;33m-\u001b[0m\u001b[1;36m1\u001b[0m\u001b[1;33m,\u001b[0m\u001b[1;33m(\u001b[0m\u001b[1;36m255\u001b[0m\u001b[1;33m,\u001b[0m\u001b[1;36m255\u001b[0m\u001b[1;33m,\u001b[0m\u001b[1;36m0\u001b[0m\u001b[1;33m)\u001b[0m\u001b[1;33m,\u001b[0m\u001b[1;36m4\u001b[0m\u001b[1;33m)\u001b[0m\u001b[1;33m\u001b[0m\u001b[1;33m\u001b[0m\u001b[0m\n\u001b[0;32m     19\u001b[0m         \u001b[1;31m# quantify the contours and update the data list\u001b[0m\u001b[1;33m\u001b[0m\u001b[1;33m\u001b[0m\u001b[0m\n\u001b[1;32m---> 20\u001b[1;33m         \u001b[0mfeatures\u001b[0m \u001b[1;33m=\u001b[0m \u001b[0mquantify_image\u001b[0m\u001b[1;33m(\u001b[0m\u001b[0mimage\u001b[0m\u001b[1;33m,\u001b[0m \u001b[0mbins\u001b[0m\u001b[1;33m)\u001b[0m\u001b[1;33m\u001b[0m\u001b[1;33m\u001b[0m\u001b[0m\n\u001b[0m\u001b[0;32m     21\u001b[0m         \u001b[0mdata\u001b[0m\u001b[1;33m.\u001b[0m\u001b[0mappend\u001b[0m\u001b[1;33m(\u001b[0m\u001b[0mfeatures\u001b[0m\u001b[1;33m)\u001b[0m\u001b[1;33m\u001b[0m\u001b[1;33m\u001b[0m\u001b[0m\n\u001b[0;32m     22\u001b[0m         \u001b[1;31m# data.append(len(contours))\u001b[0m\u001b[1;33m\u001b[0m\u001b[1;33m\u001b[0m\u001b[0m\n",
      "\u001b[1;32mC:\\Users\\HAWAUT~1\\AppData\\Local\\Temp/ipykernel_3464/2117161663.py\u001b[0m in \u001b[0;36mquantify_image\u001b[1;34m(image, bins)\u001b[0m\n\u001b[0;32m      1\u001b[0m \u001b[1;32mdef\u001b[0m \u001b[0mquantify_image\u001b[0m\u001b[1;33m(\u001b[0m\u001b[0mimage\u001b[0m\u001b[1;33m,\u001b[0m \u001b[0mbins\u001b[0m\u001b[1;33m=\u001b[0m\u001b[1;33m(\u001b[0m\u001b[1;36m4\u001b[0m\u001b[1;33m,\u001b[0m \u001b[1;36m6\u001b[0m\u001b[1;33m,\u001b[0m \u001b[1;36m3\u001b[0m\u001b[1;33m)\u001b[0m\u001b[1;33m)\u001b[0m\u001b[1;33m:\u001b[0m\u001b[1;33m\u001b[0m\u001b[1;33m\u001b[0m\u001b[0m\n\u001b[0;32m      2\u001b[0m     \u001b[1;31m# compute a 3D color histogram over the image and normalize it\u001b[0m\u001b[1;33m\u001b[0m\u001b[1;33m\u001b[0m\u001b[0m\n\u001b[1;32m----> 3\u001b[1;33m     \u001b[0mhist\u001b[0m \u001b[1;33m=\u001b[0m \u001b[0mcv2\u001b[0m\u001b[1;33m.\u001b[0m\u001b[0mcalcHist\u001b[0m\u001b[1;33m(\u001b[0m\u001b[1;33m[\u001b[0m\u001b[0mimage\u001b[0m\u001b[1;33m]\u001b[0m\u001b[1;33m,\u001b[0m \u001b[1;33m[\u001b[0m\u001b[1;36m0\u001b[0m\u001b[1;33m]\u001b[0m\u001b[1;33m,\u001b[0m \u001b[1;32mNone\u001b[0m\u001b[1;33m,\u001b[0m \u001b[1;33m[\u001b[0m\u001b[1;36m0\u001b[0m\u001b[1;33m,\u001b[0m\u001b[1;36m128\u001b[0m\u001b[1;33m]\u001b[0m\u001b[1;33m,\u001b[0m \u001b[1;33m[\u001b[0m\u001b[1;36m0\u001b[0m\u001b[1;33m,\u001b[0m\u001b[1;36m256\u001b[0m\u001b[1;33m]\u001b[0m\u001b[1;33m)\u001b[0m\u001b[1;33m\u001b[0m\u001b[1;33m\u001b[0m\u001b[0m\n\u001b[0m\u001b[0;32m      4\u001b[0m     \u001b[0mhist\u001b[0m \u001b[1;33m=\u001b[0m \u001b[0mcv2\u001b[0m\u001b[1;33m.\u001b[0m\u001b[0mnormalize\u001b[0m\u001b[1;33m(\u001b[0m\u001b[0mhist\u001b[0m\u001b[1;33m,\u001b[0m \u001b[0mhist\u001b[0m\u001b[1;33m)\u001b[0m\u001b[1;33m.\u001b[0m\u001b[0mflatten\u001b[0m\u001b[1;33m(\u001b[0m\u001b[1;33m)\u001b[0m\u001b[1;33m\u001b[0m\u001b[1;33m\u001b[0m\u001b[0m\n\u001b[0;32m      5\u001b[0m     \u001b[1;31m# return the histogram\u001b[0m\u001b[1;33m\u001b[0m\u001b[1;33m\u001b[0m\u001b[0m\n",
      "\u001b[1;31merror\u001b[0m: OpenCV(4.5.5) D:\\a\\opencv-python\\opencv-python\\opencv\\modules\\imgproc\\src\\histogram.cpp:1292: error: (-215:Assertion failed) rsz == dims*2 || (rsz == 0 && images.depth(0) == CV_8U) in function 'cv::calcHist'\n"
     ]
    }
   ],
   "source": [
    "print(\"[INFO] preparing dataset...\")\n",
    "data = load_dataset('C:\\\\Users\\\\Hawau Toyin\\\\Downloads/capsule/train/good', bins=(3, 3, 3))\n",
    "# train the anomaly detection model\n",
    "print(\"[INFO] fitting anomaly detection model...\")\n",
    "model = IsolationForest(n_estimators=100, contamination=0.01,\n",
    "    random_state=42)\n",
    "model.fit(data)"
   ]
  },
  {
   "cell_type": "code",
   "execution_count": 40,
   "id": "ac9a803c-440f-403b-a8e7-dbb291f6304a",
   "metadata": {},
   "outputs": [
    {
     "data": {
      "text/plain": [
       "-1"
      ]
     },
     "execution_count": 40,
     "metadata": {},
     "output_type": "execute_result"
    }
   ],
   "source": [
    "image = cv2.imread('C:\\\\Users\\\\Hawau Toyin\\Downloads/capsule/test/crack/001.png')\n",
    "# Convert to gray\n",
    "imageg = cv2.cvtColor(image, cv2.COLOR_BGR2GRAY) \n",
    "# get canny image\n",
    "cannyimg = cv2.Canny(imageg, 50, 100)\n",
    "        # get contours\n",
    "contours, heirachy = cv2.findContours(cannyimg, cv2.RETR_TREE, cv2.CHAIN_APPROX_NONE)\n",
    "cv2.drawContours(imageg,contours,-1,(0,255,0),4)\n",
    "cv2.imshow(\"Output\", imageg)\n",
    "cv2.waitKey(0)"
   ]
  },
  {
   "cell_type": "code",
   "execution_count": 30,
   "id": "0ac96da6-87a3-4b45-ab27-59e326ec74de",
   "metadata": {},
   "outputs": [],
   "source": [
    "features = quantify_image(imageg, bins=(3, 3, 3))"
   ]
  },
  {
   "cell_type": "code",
   "execution_count": 31,
   "id": "a23672a9-60a6-4115-b87c-f0acb049e7e4",
   "metadata": {},
   "outputs": [
    {
     "data": {
      "text/plain": [
       "-1"
      ]
     },
     "execution_count": 31,
     "metadata": {},
     "output_type": "execute_result"
    }
   ],
   "source": [
    "preds = model.predict([features])[0]\n",
    "label = \"anomaly\" if preds == -1 else \"normal\"\n",
    "color = (0, 0, 255) if preds == -1 else (0, 255, 0)\n",
    "# draw the predicted label text on the original image\n",
    "cv2.putText(image, label, (10,  25), cv2.FONT_HERSHEY_SIMPLEX,\n",
    "    0.7, color, 2)\n",
    "# display the image\n",
    "cv2.imshow(\"Output\", image)\n",
    "cv2.waitKey(0)"
   ]
  },
  {
   "cell_type": "code",
   "execution_count": 61,
   "id": "a09a0960-2781-4e38-8b7a-9641985f5378",
   "metadata": {},
   "outputs": [],
   "source": [
    "df = load_dataset('C:\\\\Users\\\\Hawau Toyin\\\\Downloads\\\\capsule\\\\train\\\\good')"
   ]
  },
  {
   "cell_type": "code",
   "execution_count": 65,
   "id": "d19a2522-948c-4833-88e2-3b7b6483c8d7",
   "metadata": {},
   "outputs": [
    {
     "data": {
      "text/plain": [
       "15"
      ]
     },
     "execution_count": 65,
     "metadata": {},
     "output_type": "execute_result"
    }
   ],
   "source": [
    "min(df['Contours'])"
   ]
  },
  {
   "cell_type": "code",
   "execution_count": 31,
   "id": "77d4fcaa-b4f7-4adf-b0ef-69e9c39e4c9a",
   "metadata": {},
   "outputs": [
    {
     "data": {
      "text/plain": [
       "<matplotlib.image.AxesImage at 0x1336bb5c160>"
      ]
     },
     "execution_count": 31,
     "metadata": {},
     "output_type": "execute_result"
    },
    {
     "data": {
      "image/png": "[encoded data removed]",
      "text/plain": [
       "<Figure size 432x288 with 1 Axes>"
      ]
     },
     "metadata": {
      "needs_background": "light"
     },
     "output_type": "display_data"
    }
   ],
   "source": [
    "plt.imshow(imgray,'gray')"
   ]
  },
  {
   "cell_type": "code",
   "execution_count": 43,
   "id": "b59afa80-0b16-468d-b20b-54e71080f69f",
   "metadata": {},
   "outputs": [
    {
     "data": {
      "text/plain": [
       "-1"
      ]
     },
     "execution_count": 43,
     "metadata": {},
     "output_type": "execute_result"
    }
   ],
   "source": [
    "image = cv2.imread('C:\\\\Users\\\\Hawau Toyin\\Downloads/capsule/train/good/001.png')\n",
    "# Convert to gray\n",
    "imageg = cv2.cvtColor(image, cv2.COLOR_BGR2GRAY) \n",
    "# get canny image\n",
    "cannyimg = cv2.Canny(imageg, 50, 100)\n",
    "        # get contours\n",
    "contours, heirachy = cv2.findContours(cannyimg, cv2.RETR_TREE, cv2.CHAIN_APPROX_NONE)\n",
    "cv2.drawContours(imageg,contours,-1,(0,255,0),2)\n",
    "cv2.imshow(\"Output\", imageg)\n",
    "cv2.waitKey(0)"
   ]
  },
  {
   "cell_type": "code",
   "execution_count": 12,
   "id": "a3c5bc96-f758-4322-9e35-8d52ac9c0bb1",
   "metadata": {},
   "outputs": [],
   "source": [
    " hist = cv2.calcHist([imageg], [0], None, [256], [0,256])"
   ]
  },
  {
   "cell_type": "code",
   "execution_count": 13,
   "id": "27e118ce-4307-4d9d-8665-cf8ae30c994b",
   "metadata": {
    "collapsed": true,
    "jupyter": {
     "outputs_hidden": true
    },
    "tags": []
   },
   "outputs": [
    {
     "data": {
      "text/plain": [
       "array([[0.0000e+00],\n",
       "       [0.0000e+00],\n",
       "       [0.0000e+00],\n",
       "       [0.0000e+00],\n",
       "       [0.0000e+00],\n",
       "       [0.0000e+00],\n",
       "       [0.0000e+00],\n",
       "       [0.0000e+00],\n",
       "       [0.0000e+00],\n",
       "       [0.0000e+00],\n",
       "       [0.0000e+00],\n",
       "       [0.0000e+00],\n",
       "       [0.0000e+00],\n",
       "       [0.0000e+00],\n",
       "       [0.0000e+00],\n",
       "       [5.2000e+01],\n",
       "       [1.5120e+03],\n",
       "       [7.0130e+03],\n",
       "       [7.3650e+03],\n",
       "       [4.1760e+03],\n",
       "       [3.3820e+03],\n",
       "       [2.9890e+03],\n",
       "       [2.4060e+03],\n",
       "       [1.9980e+03],\n",
       "       [2.2560e+03],\n",
       "       [5.1540e+03],\n",
       "       [1.2482e+04],\n",
       "       [1.1718e+04],\n",
       "       [6.9230e+03],\n",
       "       [6.3340e+03],\n",
       "       [5.6090e+03],\n",
       "       [4.0470e+03],\n",
       "       [2.9250e+03],\n",
       "       [2.0080e+03],\n",
       "       [1.3560e+03],\n",
       "       [1.1140e+03],\n",
       "       [1.0170e+03],\n",
       "       [9.4400e+02],\n",
       "       [8.7700e+02],\n",
       "       [7.5400e+02],\n",
       "       [7.3000e+02],\n",
       "       [7.7200e+02],\n",
       "       [6.6900e+02],\n",
       "       [6.0800e+02],\n",
       "       [5.4100e+02],\n",
       "       [4.8600e+02],\n",
       "       [4.5900e+02],\n",
       "       [4.1400e+02],\n",
       "       [4.0100e+02],\n",
       "       [3.7400e+02],\n",
       "       [3.6000e+02],\n",
       "       [3.1600e+02],\n",
       "       [3.3800e+02],\n",
       "       [2.8900e+02],\n",
       "       [2.7900e+02],\n",
       "       [3.0800e+02],\n",
       "       [2.7200e+02],\n",
       "       [2.4900e+02],\n",
       "       [2.5800e+02],\n",
       "       [2.7400e+02],\n",
       "       [2.5300e+02],\n",
       "       [2.4400e+02],\n",
       "       [1.7200e+02],\n",
       "       [2.2200e+02],\n",
       "       [2.2800e+02],\n",
       "       [2.7400e+02],\n",
       "       [2.1700e+02],\n",
       "       [2.3600e+02],\n",
       "       [5.2800e+02],\n",
       "       [1.4810e+03],\n",
       "       [2.2940e+03],\n",
       "       [3.2600e+03],\n",
       "       [3.6800e+03],\n",
       "       [3.5160e+03],\n",
       "       [3.2160e+03],\n",
       "       [2.8820e+03],\n",
       "       [2.7010e+03],\n",
       "       [2.6800e+03],\n",
       "       [2.6540e+03],\n",
       "       [2.4290e+03],\n",
       "       [2.2860e+03],\n",
       "       [2.2420e+03],\n",
       "       [2.0710e+03],\n",
       "       [1.9970e+03],\n",
       "       [1.8730e+03],\n",
       "       [1.8210e+03],\n",
       "       [1.7800e+03],\n",
       "       [1.5160e+03],\n",
       "       [1.4290e+03],\n",
       "       [1.4660e+03],\n",
       "       [1.8330e+03],\n",
       "       [2.4360e+03],\n",
       "       [2.8920e+03],\n",
       "       [2.9170e+03],\n",
       "       [2.9230e+03],\n",
       "       [2.7980e+03],\n",
       "       [2.8790e+03],\n",
       "       [2.7090e+03],\n",
       "       [2.5150e+03],\n",
       "       [2.0800e+03],\n",
       "       [1.8320e+03],\n",
       "       [1.3800e+03],\n",
       "       [9.7700e+02],\n",
       "       [7.6200e+02],\n",
       "       [5.9300e+02],\n",
       "       [4.9700e+02],\n",
       "       [4.4100e+02],\n",
       "       [3.6200e+02],\n",
       "       [3.2200e+02],\n",
       "       [3.5900e+02],\n",
       "       [2.7600e+02],\n",
       "       [2.9900e+02],\n",
       "       [2.6600e+02],\n",
       "       [2.7600e+02],\n",
       "       [2.8800e+02],\n",
       "       [2.9100e+02],\n",
       "       [3.3200e+02],\n",
       "       [4.1300e+02],\n",
       "       [4.7500e+02],\n",
       "       [5.0700e+02],\n",
       "       [6.4800e+02],\n",
       "       [7.8300e+02],\n",
       "       [8.4700e+02],\n",
       "       [8.0400e+02],\n",
       "       [6.9000e+02],\n",
       "       [6.1400e+02],\n",
       "       [5.8000e+02],\n",
       "       [6.6200e+02],\n",
       "       [7.2100e+02],\n",
       "       [7.3500e+02],\n",
       "       [8.1900e+02],\n",
       "       [8.5300e+02],\n",
       "       [9.1000e+02],\n",
       "       [9.7500e+02],\n",
       "       [9.8400e+02],\n",
       "       [1.0110e+03],\n",
       "       [1.0830e+03],\n",
       "       [1.0200e+03],\n",
       "       [9.9500e+02],\n",
       "       [1.0580e+03],\n",
       "       [1.0710e+03],\n",
       "       [1.0840e+03],\n",
       "       [1.1020e+03],\n",
       "       [1.2170e+03],\n",
       "       [1.4610e+03],\n",
       "       [1.5790e+03],\n",
       "       [1.6010e+03],\n",
       "       [1.5940e+03],\n",
       "       [1.6680e+03],\n",
       "       [1.8230e+03],\n",
       "       [1.8930e+03],\n",
       "       [1.9360e+03],\n",
       "       [1.9310e+03],\n",
       "       [1.9660e+03],\n",
       "       [1.9510e+03],\n",
       "       [2.0740e+03],\n",
       "       [2.0570e+03],\n",
       "       [2.1950e+03],\n",
       "       [2.2200e+03],\n",
       "       [2.4810e+03],\n",
       "       [2.6820e+03],\n",
       "       [2.8350e+03],\n",
       "       [2.9540e+03],\n",
       "       [3.0900e+03],\n",
       "       [3.2910e+03],\n",
       "       [3.4130e+03],\n",
       "       [3.4750e+03],\n",
       "       [3.7440e+03],\n",
       "       [3.6760e+03],\n",
       "       [3.6750e+03],\n",
       "       [3.7560e+03],\n",
       "       [3.8350e+03],\n",
       "       [3.8670e+03],\n",
       "       [4.0220e+03],\n",
       "       [4.0550e+03],\n",
       "       [4.2140e+03],\n",
       "       [4.3290e+03],\n",
       "       [4.4400e+03],\n",
       "       [4.4190e+03],\n",
       "       [4.6210e+03],\n",
       "       [4.5890e+03],\n",
       "       [4.7490e+03],\n",
       "       [4.7740e+03],\n",
       "       [5.0130e+03],\n",
       "       [4.9440e+03],\n",
       "       [5.0430e+03],\n",
       "       [5.4830e+03],\n",
       "       [5.5930e+03],\n",
       "       [5.4570e+03],\n",
       "       [5.7200e+03],\n",
       "       [6.0950e+03],\n",
       "       [6.2080e+03],\n",
       "       [6.3910e+03],\n",
       "       [6.8090e+03],\n",
       "       [6.9450e+03],\n",
       "       [7.2430e+03],\n",
       "       [7.3790e+03],\n",
       "       [7.7100e+03],\n",
       "       [7.8530e+03],\n",
       "       [8.2850e+03],\n",
       "       [8.9500e+03],\n",
       "       [9.5090e+03],\n",
       "       [1.0149e+04],\n",
       "       [1.1081e+04],\n",
       "       [1.2198e+04],\n",
       "       [1.3114e+04],\n",
       "       [1.4033e+04],\n",
       "       [1.5490e+04],\n",
       "       [1.6821e+04],\n",
       "       [1.8443e+04],\n",
       "       [1.9818e+04],\n",
       "       [2.0626e+04],\n",
       "       [2.0090e+04],\n",
       "       [1.9169e+04],\n",
       "       [1.7271e+04],\n",
       "       [1.5656e+04],\n",
       "       [1.4240e+04],\n",
       "       [1.3065e+04],\n",
       "       [1.3184e+04],\n",
       "       [1.3669e+04],\n",
       "       [1.4759e+04],\n",
       "       [1.6554e+04],\n",
       "       [1.8490e+04],\n",
       "       [2.1058e+04],\n",
       "       [2.3307e+04],\n",
       "       [2.4776e+04],\n",
       "       [2.5234e+04],\n",
       "       [2.4221e+04],\n",
       "       [2.1849e+04],\n",
       "       [1.8275e+04],\n",
       "       [1.3487e+04],\n",
       "       [9.4240e+03],\n",
       "       [5.6610e+03],\n",
       "       [3.2660e+03],\n",
       "       [1.7020e+03],\n",
       "       [9.1000e+02],\n",
       "       [4.0800e+02],\n",
       "       [1.9200e+02],\n",
       "       [7.1000e+01],\n",
       "       [2.6000e+01],\n",
       "       [1.8000e+01],\n",
       "       [5.0000e+00],\n",
       "       [3.0000e+00],\n",
       "       [3.0000e+00],\n",
       "       [0.0000e+00],\n",
       "       [1.0000e+00],\n",
       "       [0.0000e+00],\n",
       "       [0.0000e+00],\n",
       "       [0.0000e+00],\n",
       "       [0.0000e+00],\n",
       "       [0.0000e+00],\n",
       "       [0.0000e+00],\n",
       "       [0.0000e+00],\n",
       "       [0.0000e+00],\n",
       "       [0.0000e+00],\n",
       "       [1.7966e+04]], dtype=float32)"
      ]
     },
     "execution_count": 13,
     "metadata": {},
     "output_type": "execute_result"
    }
   ],
   "source": [
    "hist"
   ]
  },
  {
   "cell_type": "code",
   "execution_count": null,
   "id": "89cd1726-1c37-409f-9d2c-fcee215e6f08",
   "metadata": {},
   "outputs": [],
   "source": []
  }
 ],
 "metadata": {
  "kernelspec": {
   "display_name": "Python 3 (ipykernel)",
   "language": "python",
   "name": "python3"
  },
  "language_info": {
   "codemirror_mode": {
    "name": "ipython",
    "version": 3
   },
   "file_extension": ".py",
   "mimetype": "text/x-python",
   "name": "python",
   "nbconvert_exporter": "python",
   "pygments_lexer": "ipython3",
   "version": "3.9.7"
  }
 },
 "nbformat": 4,
 "nbformat_minor": 5
}
