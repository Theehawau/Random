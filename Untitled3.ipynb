{
 "cells": [
  {
   "cell_type": "code",
   "execution_count": 8,
   "id": "e269a22a-ff55-41e7-b5ca-09d2c7aa575b",
   "metadata": {},
   "outputs": [
    {
     "data": {
      "text/plain": [
       "[1, 2, 3, 4, 5, 6, 5, 4, 3, 2, 1]"
      ]
     },
     "execution_count": 8,
     "metadata": {},
     "output_type": "execute_result"
    }
   ],
   "source": [
    "list(range(1,6)) + list(range(6,0, -1))"
   ]
  },
  {
   "cell_type": "code",
   "execution_count": 9,
   "id": "e2e529fa-09d0-402e-bc7c-02fe3d8d2d24",
   "metadata": {},
   "outputs": [
    {
     "name": "stdout",
     "output_type": "stream",
     "text": [
      "10\n"
     ]
    }
   ],
   "source": [
    "x = [1,2,3,4]\n",
    "n = 0\n",
    "for i in x:\n",
    "    n = n+ i\n",
    "    \n",
    "print(n)\n",
    "    \n"
   ]
  },
  {
   "cell_type": "code",
   "execution_count": 10,
   "id": "78f6b277-ada9-4c6d-b2e6-0b0356c91761",
   "metadata": {},
   "outputs": [
    {
     "data": {
      "text/plain": [
       "[5, 6]"
      ]
     },
     "execution_count": 10,
     "metadata": {},
     "output_type": "execute_result"
    }
   ],
   "source": [
    "def t(x=5,y=6):\n",
    "    return [x,y]\n",
    "t()"
   ]
  },
  {
   "cell_type": "code",
   "execution_count": 2,
   "id": "c7d083f3-25a1-45e1-a27c-8f2b0ae84087",
   "metadata": {},
   "outputs": [
    {
     "data": {
      "text/plain": [
       "[2500, 2600, 2700, 2800, 2900]"
      ]
     },
     "execution_count": 2,
     "metadata": {},
     "output_type": "execute_result"
    }
   ],
   "source": [
    "list(range(2_500,3_000, 100))"
   ]
  },
  {
   "cell_type": "code",
   "execution_count": 1,
   "id": "d6e1658c-83d2-44a7-ae5e-16f8c75ee190",
   "metadata": {},
   "outputs": [
    {
     "data": {
      "text/plain": [
       "'C:\\\\Users\\\\Hawau Toyin\\\\Downloads'"
      ]
     },
     "execution_count": 1,
     "metadata": {},
     "output_type": "execute_result"
    }
   ],
   "source": [
    "import os\n",
    "os.getcwd()"
   ]
  },
  {
   "cell_type": "code",
   "execution_count": 21,
   "id": "b33eb543-744f-4e81-98e9-a14f706dd6c9",
   "metadata": {},
   "outputs": [],
   "source": [
    "def find_gcd(x, y):\n",
    "    while(y):\n",
    "        print('x = ',x)\n",
    "        print('y =', y)\n",
    "        print('x % y =',x % y)\n",
    "        x, y = y, x % y\n",
    "        print('x = ',x)\n",
    "        print('y =', y)\n",
    "        print('x % y =',x % y)\n",
    "  \n",
    "    return x"
   ]
  },
  {
   "cell_type": "code",
   "execution_count": 3,
   "id": "ffde1f37-b8d8-4709-aa4a-3ce9fd7a1473",
   "metadata": {},
   "outputs": [],
   "source": [
    "l = [2, 4, 6, 8, 16]\n",
    "  \n",
    "num1=l[0]\n",
    "num2=l[1]\n",
    "gcd=find_gcd(num1,num2)"
   ]
  },
  {
   "cell_type": "code",
   "execution_count": 4,
   "id": "6c9a8d15-97d4-4b86-ad85-802958413f30",
   "metadata": {},
   "outputs": [
    {
     "data": {
      "text/plain": [
       "2"
      ]
     },
     "execution_count": 4,
     "metadata": {},
     "output_type": "execute_result"
    }
   ],
   "source": [
    "gcd"
   ]
  },
  {
   "cell_type": "code",
   "execution_count": 22,
   "id": "0c13bb35-0aef-4558-9b1d-6c2d256acb3b",
   "metadata": {},
   "outputs": [
    {
     "name": "stdout",
     "output_type": "stream",
     "text": [
      "x =  3\n",
      "y = 5\n",
      "x % y = 3\n",
      "x =  5\n",
      "y = 3\n",
      "x % y = 2\n",
      "x =  5\n",
      "y = 3\n",
      "x % y = 2\n",
      "x =  3\n",
      "y = 2\n",
      "x % y = 1\n",
      "x =  3\n",
      "y = 2\n",
      "x % y = 1\n",
      "x =  2\n",
      "y = 1\n",
      "x % y = 0\n",
      "x =  2\n",
      "y = 1\n",
      "x % y = 0\n",
      "x =  1\n",
      "y = 0\n"
     ]
    },
    {
     "ename": "ZeroDivisionError",
     "evalue": "integer division or modulo by zero",
     "output_type": "error",
     "traceback": [
      "\u001b[1;31m---------------------------------------------------------------------------\u001b[0m",
      "\u001b[1;31mZeroDivisionError\u001b[0m                         Traceback (most recent call last)",
      "\u001b[1;32mC:\\Users\\HAWAUT~1\\AppData\\Local\\Temp/ipykernel_11956/3229256117.py\u001b[0m in \u001b[0;36m<module>\u001b[1;34m\u001b[0m\n\u001b[1;32m----> 1\u001b[1;33m \u001b[0mfind_gcd\u001b[0m\u001b[1;33m(\u001b[0m\u001b[1;36m3\u001b[0m\u001b[1;33m,\u001b[0m\u001b[1;36m5\u001b[0m\u001b[1;33m)\u001b[0m\u001b[1;33m\u001b[0m\u001b[1;33m\u001b[0m\u001b[0m\n\u001b[0m",
      "\u001b[1;32mC:\\Users\\HAWAUT~1\\AppData\\Local\\Temp/ipykernel_11956/1774040890.py\u001b[0m in \u001b[0;36mfind_gcd\u001b[1;34m(x, y)\u001b[0m\n\u001b[0;32m      7\u001b[0m         \u001b[0mprint\u001b[0m\u001b[1;33m(\u001b[0m\u001b[1;34m'x = '\u001b[0m\u001b[1;33m,\u001b[0m\u001b[0mx\u001b[0m\u001b[1;33m)\u001b[0m\u001b[1;33m\u001b[0m\u001b[1;33m\u001b[0m\u001b[0m\n\u001b[0;32m      8\u001b[0m         \u001b[0mprint\u001b[0m\u001b[1;33m(\u001b[0m\u001b[1;34m'y ='\u001b[0m\u001b[1;33m,\u001b[0m \u001b[0my\u001b[0m\u001b[1;33m)\u001b[0m\u001b[1;33m\u001b[0m\u001b[1;33m\u001b[0m\u001b[0m\n\u001b[1;32m----> 9\u001b[1;33m         \u001b[0mprint\u001b[0m\u001b[1;33m(\u001b[0m\u001b[1;34m'x % y ='\u001b[0m\u001b[1;33m,\u001b[0m\u001b[0mx\u001b[0m \u001b[1;33m%\u001b[0m \u001b[0my\u001b[0m\u001b[1;33m)\u001b[0m\u001b[1;33m\u001b[0m\u001b[1;33m\u001b[0m\u001b[0m\n\u001b[0m\u001b[0;32m     10\u001b[0m \u001b[1;33m\u001b[0m\u001b[0m\n\u001b[0;32m     11\u001b[0m     \u001b[1;32mreturn\u001b[0m \u001b[0mx\u001b[0m\u001b[1;33m\u001b[0m\u001b[1;33m\u001b[0m\u001b[0m\n",
      "\u001b[1;31mZeroDivisionError\u001b[0m: integer division or modulo by zero"
     ]
    }
   ],
   "source": [
    "find_gcd(3,5)"
   ]
  },
  {
   "cell_type": "code",
   "execution_count": 18,
   "id": "1224e4e6-5342-40e3-bc64-791c39faf053",
   "metadata": {},
   "outputs": [
    {
     "name": "stdout",
     "output_type": "stream",
     "text": [
      "2\n"
     ]
    }
   ],
   "source": [
    "def find_gcd(x, y):\n",
    "      \n",
    "    while(y):\n",
    "        x, y = y, x % y\n",
    "      \n",
    "    return x\n",
    "          \n",
    "# Driver Code        \n",
    "l = [2, 4, 6, 8, 16]\n",
    "  \n",
    "num1 = l[0]\n",
    "num2 = l[1]\n",
    "gcd = find_gcd(num1, num2)\n",
    "  \n",
    "for i in range(2, len(l)):\n",
    "    gcd = find_gcd(gcd, l[i])\n",
    "      \n",
    "print(gcd)\n",
    "  "
   ]
  },
  {
   "cell_type": "code",
   "execution_count": 23,
   "id": "e26b407a-1242-4ec7-b748-99bd35eb5080",
   "metadata": {},
   "outputs": [
    {
     "data": {
      "text/plain": [
       "9"
      ]
     },
     "execution_count": 23,
     "metadata": {},
     "output_type": "execute_result"
    }
   ],
   "source": [
    "3**2"
   ]
  },
  {
   "cell_type": "code",
   "execution_count": 24,
   "id": "53d1e0e9-f045-4430-aca3-27c3cb575213",
   "metadata": {},
   "outputs": [],
   "source": [
    "path = 'C:\\\\Users\\\\Hawau Toyin\\Downloads/capsule/test/crack/003.png'"
   ]
  },
  {
   "cell_type": "code",
   "execution_count": 26,
   "id": "14581ac9-85b3-4d72-b227-1227168263ac",
   "metadata": {},
   "outputs": [
    {
     "data": {
      "text/plain": [
       "'003.png'"
      ]
     },
     "execution_count": 26,
     "metadata": {},
     "output_type": "execute_result"
    }
   ],
   "source": [
    "path.split('/')[-1]"
   ]
  },
  {
   "cell_type": "code",
   "execution_count": null,
   "id": "f61979af-ebf3-4d1c-b880-bd30c0c86951",
   "metadata": {},
   "outputs": [],
   "source": []
  },
  {
   "cell_type": "code",
   "execution_count": 28,
   "id": "8d00dc4f-e158-4242-be19-3d732dd39f25",
   "metadata": {},
   "outputs": [],
   "source": [
    "from imutils import paths"
   ]
  },
  {
   "cell_type": "code",
   "execution_count": 34,
   "id": "0b95cb26-c86f-4d86-a055-1c305cd66c36",
   "metadata": {
    "collapsed": true,
    "jupyter": {
     "outputs_hidden": true
    },
    "tags": []
   },
   "outputs": [
    {
     "data": {
      "text/plain": [
       "['C:\\\\Users\\\\Hawau Toyin\\\\Downloads\\\\capsule/train\\\\good\\\\000.png',\n",
       " 'C:\\\\Users\\\\Hawau Toyin\\\\Downloads\\\\capsule/train\\\\good\\\\001.png',\n",
       " 'C:\\\\Users\\\\Hawau Toyin\\\\Downloads\\\\capsule/train\\\\good\\\\002.png',\n",
       " 'C:\\\\Users\\\\Hawau Toyin\\\\Downloads\\\\capsule/train\\\\good\\\\003.png',\n",
       " 'C:\\\\Users\\\\Hawau Toyin\\\\Downloads\\\\capsule/train\\\\good\\\\004.png',\n",
       " 'C:\\\\Users\\\\Hawau Toyin\\\\Downloads\\\\capsule/train\\\\good\\\\005.png',\n",
       " 'C:\\\\Users\\\\Hawau Toyin\\\\Downloads\\\\capsule/train\\\\good\\\\006.png',\n",
       " 'C:\\\\Users\\\\Hawau Toyin\\\\Downloads\\\\capsule/train\\\\good\\\\007.png',\n",
       " 'C:\\\\Users\\\\Hawau Toyin\\\\Downloads\\\\capsule/train\\\\good\\\\008.png',\n",
       " 'C:\\\\Users\\\\Hawau Toyin\\\\Downloads\\\\capsule/train\\\\good\\\\009.png',\n",
       " 'C:\\\\Users\\\\Hawau Toyin\\\\Downloads\\\\capsule/train\\\\good\\\\010.png',\n",
       " 'C:\\\\Users\\\\Hawau Toyin\\\\Downloads\\\\capsule/train\\\\good\\\\011.png',\n",
       " 'C:\\\\Users\\\\Hawau Toyin\\\\Downloads\\\\capsule/train\\\\good\\\\012.png',\n",
       " 'C:\\\\Users\\\\Hawau Toyin\\\\Downloads\\\\capsule/train\\\\good\\\\013.png',\n",
       " 'C:\\\\Users\\\\Hawau Toyin\\\\Downloads\\\\capsule/train\\\\good\\\\014.png',\n",
       " 'C:\\\\Users\\\\Hawau Toyin\\\\Downloads\\\\capsule/train\\\\good\\\\015.png',\n",
       " 'C:\\\\Users\\\\Hawau Toyin\\\\Downloads\\\\capsule/train\\\\good\\\\016.png',\n",
       " 'C:\\\\Users\\\\Hawau Toyin\\\\Downloads\\\\capsule/train\\\\good\\\\017.png',\n",
       " 'C:\\\\Users\\\\Hawau Toyin\\\\Downloads\\\\capsule/train\\\\good\\\\018.png',\n",
       " 'C:\\\\Users\\\\Hawau Toyin\\\\Downloads\\\\capsule/train\\\\good\\\\019.png',\n",
       " 'C:\\\\Users\\\\Hawau Toyin\\\\Downloads\\\\capsule/train\\\\good\\\\020.png',\n",
       " 'C:\\\\Users\\\\Hawau Toyin\\\\Downloads\\\\capsule/train\\\\good\\\\021.png',\n",
       " 'C:\\\\Users\\\\Hawau Toyin\\\\Downloads\\\\capsule/train\\\\good\\\\022.png',\n",
       " 'C:\\\\Users\\\\Hawau Toyin\\\\Downloads\\\\capsule/train\\\\good\\\\023.png',\n",
       " 'C:\\\\Users\\\\Hawau Toyin\\\\Downloads\\\\capsule/train\\\\good\\\\024.png',\n",
       " 'C:\\\\Users\\\\Hawau Toyin\\\\Downloads\\\\capsule/train\\\\good\\\\025.png',\n",
       " 'C:\\\\Users\\\\Hawau Toyin\\\\Downloads\\\\capsule/train\\\\good\\\\026.png',\n",
       " 'C:\\\\Users\\\\Hawau Toyin\\\\Downloads\\\\capsule/train\\\\good\\\\027.png',\n",
       " 'C:\\\\Users\\\\Hawau Toyin\\\\Downloads\\\\capsule/train\\\\good\\\\028.png',\n",
       " 'C:\\\\Users\\\\Hawau Toyin\\\\Downloads\\\\capsule/train\\\\good\\\\029.png',\n",
       " 'C:\\\\Users\\\\Hawau Toyin\\\\Downloads\\\\capsule/train\\\\good\\\\030.png',\n",
       " 'C:\\\\Users\\\\Hawau Toyin\\\\Downloads\\\\capsule/train\\\\good\\\\031.png',\n",
       " 'C:\\\\Users\\\\Hawau Toyin\\\\Downloads\\\\capsule/train\\\\good\\\\032.png',\n",
       " 'C:\\\\Users\\\\Hawau Toyin\\\\Downloads\\\\capsule/train\\\\good\\\\033.png',\n",
       " 'C:\\\\Users\\\\Hawau Toyin\\\\Downloads\\\\capsule/train\\\\good\\\\034.png',\n",
       " 'C:\\\\Users\\\\Hawau Toyin\\\\Downloads\\\\capsule/train\\\\good\\\\035.png',\n",
       " 'C:\\\\Users\\\\Hawau Toyin\\\\Downloads\\\\capsule/train\\\\good\\\\036.png',\n",
       " 'C:\\\\Users\\\\Hawau Toyin\\\\Downloads\\\\capsule/train\\\\good\\\\037.png',\n",
       " 'C:\\\\Users\\\\Hawau Toyin\\\\Downloads\\\\capsule/train\\\\good\\\\038.png',\n",
       " 'C:\\\\Users\\\\Hawau Toyin\\\\Downloads\\\\capsule/train\\\\good\\\\039.png',\n",
       " 'C:\\\\Users\\\\Hawau Toyin\\\\Downloads\\\\capsule/train\\\\good\\\\040.png',\n",
       " 'C:\\\\Users\\\\Hawau Toyin\\\\Downloads\\\\capsule/train\\\\good\\\\041.png',\n",
       " 'C:\\\\Users\\\\Hawau Toyin\\\\Downloads\\\\capsule/train\\\\good\\\\042.png',\n",
       " 'C:\\\\Users\\\\Hawau Toyin\\\\Downloads\\\\capsule/train\\\\good\\\\043.png',\n",
       " 'C:\\\\Users\\\\Hawau Toyin\\\\Downloads\\\\capsule/train\\\\good\\\\044.png',\n",
       " 'C:\\\\Users\\\\Hawau Toyin\\\\Downloads\\\\capsule/train\\\\good\\\\045.png',\n",
       " 'C:\\\\Users\\\\Hawau Toyin\\\\Downloads\\\\capsule/train\\\\good\\\\046.png',\n",
       " 'C:\\\\Users\\\\Hawau Toyin\\\\Downloads\\\\capsule/train\\\\good\\\\047.png',\n",
       " 'C:\\\\Users\\\\Hawau Toyin\\\\Downloads\\\\capsule/train\\\\good\\\\048.png',\n",
       " 'C:\\\\Users\\\\Hawau Toyin\\\\Downloads\\\\capsule/train\\\\good\\\\049.png',\n",
       " 'C:\\\\Users\\\\Hawau Toyin\\\\Downloads\\\\capsule/train\\\\good\\\\050.png',\n",
       " 'C:\\\\Users\\\\Hawau Toyin\\\\Downloads\\\\capsule/train\\\\good\\\\051.png',\n",
       " 'C:\\\\Users\\\\Hawau Toyin\\\\Downloads\\\\capsule/train\\\\good\\\\052.png',\n",
       " 'C:\\\\Users\\\\Hawau Toyin\\\\Downloads\\\\capsule/train\\\\good\\\\053.png',\n",
       " 'C:\\\\Users\\\\Hawau Toyin\\\\Downloads\\\\capsule/train\\\\good\\\\054.png',\n",
       " 'C:\\\\Users\\\\Hawau Toyin\\\\Downloads\\\\capsule/train\\\\good\\\\055.png',\n",
       " 'C:\\\\Users\\\\Hawau Toyin\\\\Downloads\\\\capsule/train\\\\good\\\\056.png',\n",
       " 'C:\\\\Users\\\\Hawau Toyin\\\\Downloads\\\\capsule/train\\\\good\\\\057.png',\n",
       " 'C:\\\\Users\\\\Hawau Toyin\\\\Downloads\\\\capsule/train\\\\good\\\\058.png',\n",
       " 'C:\\\\Users\\\\Hawau Toyin\\\\Downloads\\\\capsule/train\\\\good\\\\059.png',\n",
       " 'C:\\\\Users\\\\Hawau Toyin\\\\Downloads\\\\capsule/train\\\\good\\\\060.png',\n",
       " 'C:\\\\Users\\\\Hawau Toyin\\\\Downloads\\\\capsule/train\\\\good\\\\061.png',\n",
       " 'C:\\\\Users\\\\Hawau Toyin\\\\Downloads\\\\capsule/train\\\\good\\\\062.png',\n",
       " 'C:\\\\Users\\\\Hawau Toyin\\\\Downloads\\\\capsule/train\\\\good\\\\063.png',\n",
       " 'C:\\\\Users\\\\Hawau Toyin\\\\Downloads\\\\capsule/train\\\\good\\\\064.png',\n",
       " 'C:\\\\Users\\\\Hawau Toyin\\\\Downloads\\\\capsule/train\\\\good\\\\065.png',\n",
       " 'C:\\\\Users\\\\Hawau Toyin\\\\Downloads\\\\capsule/train\\\\good\\\\066.png',\n",
       " 'C:\\\\Users\\\\Hawau Toyin\\\\Downloads\\\\capsule/train\\\\good\\\\067.png',\n",
       " 'C:\\\\Users\\\\Hawau Toyin\\\\Downloads\\\\capsule/train\\\\good\\\\068.png',\n",
       " 'C:\\\\Users\\\\Hawau Toyin\\\\Downloads\\\\capsule/train\\\\good\\\\069.png',\n",
       " 'C:\\\\Users\\\\Hawau Toyin\\\\Downloads\\\\capsule/train\\\\good\\\\070.png',\n",
       " 'C:\\\\Users\\\\Hawau Toyin\\\\Downloads\\\\capsule/train\\\\good\\\\071.png',\n",
       " 'C:\\\\Users\\\\Hawau Toyin\\\\Downloads\\\\capsule/train\\\\good\\\\072.png',\n",
       " 'C:\\\\Users\\\\Hawau Toyin\\\\Downloads\\\\capsule/train\\\\good\\\\073.png',\n",
       " 'C:\\\\Users\\\\Hawau Toyin\\\\Downloads\\\\capsule/train\\\\good\\\\074.png',\n",
       " 'C:\\\\Users\\\\Hawau Toyin\\\\Downloads\\\\capsule/train\\\\good\\\\075.png',\n",
       " 'C:\\\\Users\\\\Hawau Toyin\\\\Downloads\\\\capsule/train\\\\good\\\\076.png',\n",
       " 'C:\\\\Users\\\\Hawau Toyin\\\\Downloads\\\\capsule/train\\\\good\\\\077.png',\n",
       " 'C:\\\\Users\\\\Hawau Toyin\\\\Downloads\\\\capsule/train\\\\good\\\\078.png',\n",
       " 'C:\\\\Users\\\\Hawau Toyin\\\\Downloads\\\\capsule/train\\\\good\\\\079.png',\n",
       " 'C:\\\\Users\\\\Hawau Toyin\\\\Downloads\\\\capsule/train\\\\good\\\\080.png',\n",
       " 'C:\\\\Users\\\\Hawau Toyin\\\\Downloads\\\\capsule/train\\\\good\\\\081.png',\n",
       " 'C:\\\\Users\\\\Hawau Toyin\\\\Downloads\\\\capsule/train\\\\good\\\\082.png',\n",
       " 'C:\\\\Users\\\\Hawau Toyin\\\\Downloads\\\\capsule/train\\\\good\\\\083.png',\n",
       " 'C:\\\\Users\\\\Hawau Toyin\\\\Downloads\\\\capsule/train\\\\good\\\\084.png',\n",
       " 'C:\\\\Users\\\\Hawau Toyin\\\\Downloads\\\\capsule/train\\\\good\\\\085.png',\n",
       " 'C:\\\\Users\\\\Hawau Toyin\\\\Downloads\\\\capsule/train\\\\good\\\\086.png',\n",
       " 'C:\\\\Users\\\\Hawau Toyin\\\\Downloads\\\\capsule/train\\\\good\\\\087.png',\n",
       " 'C:\\\\Users\\\\Hawau Toyin\\\\Downloads\\\\capsule/train\\\\good\\\\088.png',\n",
       " 'C:\\\\Users\\\\Hawau Toyin\\\\Downloads\\\\capsule/train\\\\good\\\\089.png',\n",
       " 'C:\\\\Users\\\\Hawau Toyin\\\\Downloads\\\\capsule/train\\\\good\\\\090.png',\n",
       " 'C:\\\\Users\\\\Hawau Toyin\\\\Downloads\\\\capsule/train\\\\good\\\\091.png',\n",
       " 'C:\\\\Users\\\\Hawau Toyin\\\\Downloads\\\\capsule/train\\\\good\\\\092.png',\n",
       " 'C:\\\\Users\\\\Hawau Toyin\\\\Downloads\\\\capsule/train\\\\good\\\\093.png',\n",
       " 'C:\\\\Users\\\\Hawau Toyin\\\\Downloads\\\\capsule/train\\\\good\\\\094.png',\n",
       " 'C:\\\\Users\\\\Hawau Toyin\\\\Downloads\\\\capsule/train\\\\good\\\\095.png',\n",
       " 'C:\\\\Users\\\\Hawau Toyin\\\\Downloads\\\\capsule/train\\\\good\\\\096.png',\n",
       " 'C:\\\\Users\\\\Hawau Toyin\\\\Downloads\\\\capsule/train\\\\good\\\\097.png',\n",
       " 'C:\\\\Users\\\\Hawau Toyin\\\\Downloads\\\\capsule/train\\\\good\\\\098.png',\n",
       " 'C:\\\\Users\\\\Hawau Toyin\\\\Downloads\\\\capsule/train\\\\good\\\\099.png',\n",
       " 'C:\\\\Users\\\\Hawau Toyin\\\\Downloads\\\\capsule/train\\\\good\\\\100.png',\n",
       " 'C:\\\\Users\\\\Hawau Toyin\\\\Downloads\\\\capsule/train\\\\good\\\\101.png',\n",
       " 'C:\\\\Users\\\\Hawau Toyin\\\\Downloads\\\\capsule/train\\\\good\\\\102.png',\n",
       " 'C:\\\\Users\\\\Hawau Toyin\\\\Downloads\\\\capsule/train\\\\good\\\\103.png',\n",
       " 'C:\\\\Users\\\\Hawau Toyin\\\\Downloads\\\\capsule/train\\\\good\\\\104.png',\n",
       " 'C:\\\\Users\\\\Hawau Toyin\\\\Downloads\\\\capsule/train\\\\good\\\\105.png',\n",
       " 'C:\\\\Users\\\\Hawau Toyin\\\\Downloads\\\\capsule/train\\\\good\\\\106.png',\n",
       " 'C:\\\\Users\\\\Hawau Toyin\\\\Downloads\\\\capsule/train\\\\good\\\\107.png',\n",
       " 'C:\\\\Users\\\\Hawau Toyin\\\\Downloads\\\\capsule/train\\\\good\\\\108.png',\n",
       " 'C:\\\\Users\\\\Hawau Toyin\\\\Downloads\\\\capsule/train\\\\good\\\\109.png',\n",
       " 'C:\\\\Users\\\\Hawau Toyin\\\\Downloads\\\\capsule/train\\\\good\\\\110.png',\n",
       " 'C:\\\\Users\\\\Hawau Toyin\\\\Downloads\\\\capsule/train\\\\good\\\\111.png',\n",
       " 'C:\\\\Users\\\\Hawau Toyin\\\\Downloads\\\\capsule/train\\\\good\\\\112.png',\n",
       " 'C:\\\\Users\\\\Hawau Toyin\\\\Downloads\\\\capsule/train\\\\good\\\\113.png',\n",
       " 'C:\\\\Users\\\\Hawau Toyin\\\\Downloads\\\\capsule/train\\\\good\\\\114.png',\n",
       " 'C:\\\\Users\\\\Hawau Toyin\\\\Downloads\\\\capsule/train\\\\good\\\\115.png',\n",
       " 'C:\\\\Users\\\\Hawau Toyin\\\\Downloads\\\\capsule/train\\\\good\\\\116.png',\n",
       " 'C:\\\\Users\\\\Hawau Toyin\\\\Downloads\\\\capsule/train\\\\good\\\\117.png',\n",
       " 'C:\\\\Users\\\\Hawau Toyin\\\\Downloads\\\\capsule/train\\\\good\\\\118.png',\n",
       " 'C:\\\\Users\\\\Hawau Toyin\\\\Downloads\\\\capsule/train\\\\good\\\\119.png',\n",
       " 'C:\\\\Users\\\\Hawau Toyin\\\\Downloads\\\\capsule/train\\\\good\\\\120.png',\n",
       " 'C:\\\\Users\\\\Hawau Toyin\\\\Downloads\\\\capsule/train\\\\good\\\\121.png',\n",
       " 'C:\\\\Users\\\\Hawau Toyin\\\\Downloads\\\\capsule/train\\\\good\\\\122.png',\n",
       " 'C:\\\\Users\\\\Hawau Toyin\\\\Downloads\\\\capsule/train\\\\good\\\\123.png',\n",
       " 'C:\\\\Users\\\\Hawau Toyin\\\\Downloads\\\\capsule/train\\\\good\\\\124.png',\n",
       " 'C:\\\\Users\\\\Hawau Toyin\\\\Downloads\\\\capsule/train\\\\good\\\\125.png',\n",
       " 'C:\\\\Users\\\\Hawau Toyin\\\\Downloads\\\\capsule/train\\\\good\\\\126.png',\n",
       " 'C:\\\\Users\\\\Hawau Toyin\\\\Downloads\\\\capsule/train\\\\good\\\\127.png',\n",
       " 'C:\\\\Users\\\\Hawau Toyin\\\\Downloads\\\\capsule/train\\\\good\\\\128.png',\n",
       " 'C:\\\\Users\\\\Hawau Toyin\\\\Downloads\\\\capsule/train\\\\good\\\\129.png',\n",
       " 'C:\\\\Users\\\\Hawau Toyin\\\\Downloads\\\\capsule/train\\\\good\\\\130.png',\n",
       " 'C:\\\\Users\\\\Hawau Toyin\\\\Downloads\\\\capsule/train\\\\good\\\\131.png',\n",
       " 'C:\\\\Users\\\\Hawau Toyin\\\\Downloads\\\\capsule/train\\\\good\\\\132.png',\n",
       " 'C:\\\\Users\\\\Hawau Toyin\\\\Downloads\\\\capsule/train\\\\good\\\\133.png',\n",
       " 'C:\\\\Users\\\\Hawau Toyin\\\\Downloads\\\\capsule/train\\\\good\\\\134.png',\n",
       " 'C:\\\\Users\\\\Hawau Toyin\\\\Downloads\\\\capsule/train\\\\good\\\\135.png',\n",
       " 'C:\\\\Users\\\\Hawau Toyin\\\\Downloads\\\\capsule/train\\\\good\\\\136.png',\n",
       " 'C:\\\\Users\\\\Hawau Toyin\\\\Downloads\\\\capsule/train\\\\good\\\\137.png',\n",
       " 'C:\\\\Users\\\\Hawau Toyin\\\\Downloads\\\\capsule/train\\\\good\\\\138.png',\n",
       " 'C:\\\\Users\\\\Hawau Toyin\\\\Downloads\\\\capsule/train\\\\good\\\\139.png',\n",
       " 'C:\\\\Users\\\\Hawau Toyin\\\\Downloads\\\\capsule/train\\\\good\\\\140.png',\n",
       " 'C:\\\\Users\\\\Hawau Toyin\\\\Downloads\\\\capsule/train\\\\good\\\\141.png',\n",
       " 'C:\\\\Users\\\\Hawau Toyin\\\\Downloads\\\\capsule/train\\\\good\\\\142.png',\n",
       " 'C:\\\\Users\\\\Hawau Toyin\\\\Downloads\\\\capsule/train\\\\good\\\\143.png',\n",
       " 'C:\\\\Users\\\\Hawau Toyin\\\\Downloads\\\\capsule/train\\\\good\\\\144.png',\n",
       " 'C:\\\\Users\\\\Hawau Toyin\\\\Downloads\\\\capsule/train\\\\good\\\\145.png',\n",
       " 'C:\\\\Users\\\\Hawau Toyin\\\\Downloads\\\\capsule/train\\\\good\\\\146.png',\n",
       " 'C:\\\\Users\\\\Hawau Toyin\\\\Downloads\\\\capsule/train\\\\good\\\\147.png',\n",
       " 'C:\\\\Users\\\\Hawau Toyin\\\\Downloads\\\\capsule/train\\\\good\\\\148.png',\n",
       " 'C:\\\\Users\\\\Hawau Toyin\\\\Downloads\\\\capsule/train\\\\good\\\\149.png',\n",
       " 'C:\\\\Users\\\\Hawau Toyin\\\\Downloads\\\\capsule/train\\\\good\\\\150.png',\n",
       " 'C:\\\\Users\\\\Hawau Toyin\\\\Downloads\\\\capsule/train\\\\good\\\\151.png',\n",
       " 'C:\\\\Users\\\\Hawau Toyin\\\\Downloads\\\\capsule/train\\\\good\\\\152.png',\n",
       " 'C:\\\\Users\\\\Hawau Toyin\\\\Downloads\\\\capsule/train\\\\good\\\\153.png',\n",
       " 'C:\\\\Users\\\\Hawau Toyin\\\\Downloads\\\\capsule/train\\\\good\\\\154.png',\n",
       " 'C:\\\\Users\\\\Hawau Toyin\\\\Downloads\\\\capsule/train\\\\good\\\\155.png',\n",
       " 'C:\\\\Users\\\\Hawau Toyin\\\\Downloads\\\\capsule/train\\\\good\\\\156.png',\n",
       " 'C:\\\\Users\\\\Hawau Toyin\\\\Downloads\\\\capsule/train\\\\good\\\\157.png',\n",
       " 'C:\\\\Users\\\\Hawau Toyin\\\\Downloads\\\\capsule/train\\\\good\\\\158.png',\n",
       " 'C:\\\\Users\\\\Hawau Toyin\\\\Downloads\\\\capsule/train\\\\good\\\\159.png',\n",
       " 'C:\\\\Users\\\\Hawau Toyin\\\\Downloads\\\\capsule/train\\\\good\\\\160.png',\n",
       " 'C:\\\\Users\\\\Hawau Toyin\\\\Downloads\\\\capsule/train\\\\good\\\\161.png',\n",
       " 'C:\\\\Users\\\\Hawau Toyin\\\\Downloads\\\\capsule/train\\\\good\\\\162.png',\n",
       " 'C:\\\\Users\\\\Hawau Toyin\\\\Downloads\\\\capsule/train\\\\good\\\\163.png',\n",
       " 'C:\\\\Users\\\\Hawau Toyin\\\\Downloads\\\\capsule/train\\\\good\\\\164.png',\n",
       " 'C:\\\\Users\\\\Hawau Toyin\\\\Downloads\\\\capsule/train\\\\good\\\\165.png',\n",
       " 'C:\\\\Users\\\\Hawau Toyin\\\\Downloads\\\\capsule/train\\\\good\\\\166.png',\n",
       " 'C:\\\\Users\\\\Hawau Toyin\\\\Downloads\\\\capsule/train\\\\good\\\\167.png',\n",
       " 'C:\\\\Users\\\\Hawau Toyin\\\\Downloads\\\\capsule/train\\\\good\\\\168.png',\n",
       " 'C:\\\\Users\\\\Hawau Toyin\\\\Downloads\\\\capsule/train\\\\good\\\\169.png',\n",
       " 'C:\\\\Users\\\\Hawau Toyin\\\\Downloads\\\\capsule/train\\\\good\\\\170.png',\n",
       " 'C:\\\\Users\\\\Hawau Toyin\\\\Downloads\\\\capsule/train\\\\good\\\\171.png',\n",
       " 'C:\\\\Users\\\\Hawau Toyin\\\\Downloads\\\\capsule/train\\\\good\\\\172.png',\n",
       " 'C:\\\\Users\\\\Hawau Toyin\\\\Downloads\\\\capsule/train\\\\good\\\\173.png',\n",
       " 'C:\\\\Users\\\\Hawau Toyin\\\\Downloads\\\\capsule/train\\\\good\\\\174.png',\n",
       " 'C:\\\\Users\\\\Hawau Toyin\\\\Downloads\\\\capsule/train\\\\good\\\\175.png',\n",
       " 'C:\\\\Users\\\\Hawau Toyin\\\\Downloads\\\\capsule/train\\\\good\\\\176.png',\n",
       " 'C:\\\\Users\\\\Hawau Toyin\\\\Downloads\\\\capsule/train\\\\good\\\\177.png',\n",
       " 'C:\\\\Users\\\\Hawau Toyin\\\\Downloads\\\\capsule/train\\\\good\\\\178.png',\n",
       " 'C:\\\\Users\\\\Hawau Toyin\\\\Downloads\\\\capsule/train\\\\good\\\\179.png',\n",
       " 'C:\\\\Users\\\\Hawau Toyin\\\\Downloads\\\\capsule/train\\\\good\\\\180.png',\n",
       " 'C:\\\\Users\\\\Hawau Toyin\\\\Downloads\\\\capsule/train\\\\good\\\\181.png',\n",
       " 'C:\\\\Users\\\\Hawau Toyin\\\\Downloads\\\\capsule/train\\\\good\\\\182.png',\n",
       " 'C:\\\\Users\\\\Hawau Toyin\\\\Downloads\\\\capsule/train\\\\good\\\\183.png',\n",
       " 'C:\\\\Users\\\\Hawau Toyin\\\\Downloads\\\\capsule/train\\\\good\\\\184.png',\n",
       " 'C:\\\\Users\\\\Hawau Toyin\\\\Downloads\\\\capsule/train\\\\good\\\\185.png',\n",
       " 'C:\\\\Users\\\\Hawau Toyin\\\\Downloads\\\\capsule/train\\\\good\\\\186.png',\n",
       " 'C:\\\\Users\\\\Hawau Toyin\\\\Downloads\\\\capsule/train\\\\good\\\\187.png',\n",
       " 'C:\\\\Users\\\\Hawau Toyin\\\\Downloads\\\\capsule/train\\\\good\\\\188.png',\n",
       " 'C:\\\\Users\\\\Hawau Toyin\\\\Downloads\\\\capsule/train\\\\good\\\\189.png',\n",
       " 'C:\\\\Users\\\\Hawau Toyin\\\\Downloads\\\\capsule/train\\\\good\\\\190.png',\n",
       " 'C:\\\\Users\\\\Hawau Toyin\\\\Downloads\\\\capsule/train\\\\good\\\\191.png',\n",
       " 'C:\\\\Users\\\\Hawau Toyin\\\\Downloads\\\\capsule/train\\\\good\\\\192.png',\n",
       " 'C:\\\\Users\\\\Hawau Toyin\\\\Downloads\\\\capsule/train\\\\good\\\\193.png',\n",
       " 'C:\\\\Users\\\\Hawau Toyin\\\\Downloads\\\\capsule/train\\\\good\\\\194.png',\n",
       " 'C:\\\\Users\\\\Hawau Toyin\\\\Downloads\\\\capsule/train\\\\good\\\\195.png',\n",
       " 'C:\\\\Users\\\\Hawau Toyin\\\\Downloads\\\\capsule/train\\\\good\\\\196.png',\n",
       " 'C:\\\\Users\\\\Hawau Toyin\\\\Downloads\\\\capsule/train\\\\good\\\\197.png',\n",
       " 'C:\\\\Users\\\\Hawau Toyin\\\\Downloads\\\\capsule/train\\\\good\\\\198.png',\n",
       " 'C:\\\\Users\\\\Hawau Toyin\\\\Downloads\\\\capsule/train\\\\good\\\\199.png',\n",
       " 'C:\\\\Users\\\\Hawau Toyin\\\\Downloads\\\\capsule/train\\\\good\\\\200.png',\n",
       " 'C:\\\\Users\\\\Hawau Toyin\\\\Downloads\\\\capsule/train\\\\good\\\\201.png',\n",
       " 'C:\\\\Users\\\\Hawau Toyin\\\\Downloads\\\\capsule/train\\\\good\\\\202.png',\n",
       " 'C:\\\\Users\\\\Hawau Toyin\\\\Downloads\\\\capsule/train\\\\good\\\\203.png',\n",
       " 'C:\\\\Users\\\\Hawau Toyin\\\\Downloads\\\\capsule/train\\\\good\\\\204.png',\n",
       " 'C:\\\\Users\\\\Hawau Toyin\\\\Downloads\\\\capsule/train\\\\good\\\\205.png',\n",
       " 'C:\\\\Users\\\\Hawau Toyin\\\\Downloads\\\\capsule/train\\\\good\\\\206.png',\n",
       " 'C:\\\\Users\\\\Hawau Toyin\\\\Downloads\\\\capsule/train\\\\good\\\\207.png',\n",
       " 'C:\\\\Users\\\\Hawau Toyin\\\\Downloads\\\\capsule/train\\\\good\\\\208.png',\n",
       " 'C:\\\\Users\\\\Hawau Toyin\\\\Downloads\\\\capsule/train\\\\good\\\\209.png',\n",
       " 'C:\\\\Users\\\\Hawau Toyin\\\\Downloads\\\\capsule/train\\\\good\\\\210.png',\n",
       " 'C:\\\\Users\\\\Hawau Toyin\\\\Downloads\\\\capsule/train\\\\good\\\\211.png',\n",
       " 'C:\\\\Users\\\\Hawau Toyin\\\\Downloads\\\\capsule/train\\\\good\\\\212.png',\n",
       " 'C:\\\\Users\\\\Hawau Toyin\\\\Downloads\\\\capsule/train\\\\good\\\\213.png',\n",
       " 'C:\\\\Users\\\\Hawau Toyin\\\\Downloads\\\\capsule/train\\\\good\\\\214.png',\n",
       " 'C:\\\\Users\\\\Hawau Toyin\\\\Downloads\\\\capsule/train\\\\good\\\\215.png',\n",
       " 'C:\\\\Users\\\\Hawau Toyin\\\\Downloads\\\\capsule/train\\\\good\\\\216.png',\n",
       " 'C:\\\\Users\\\\Hawau Toyin\\\\Downloads\\\\capsule/train\\\\good\\\\217.png',\n",
       " 'C:\\\\Users\\\\Hawau Toyin\\\\Downloads\\\\capsule/train\\\\good\\\\218.png',\n",
       " 'C:\\\\Users\\\\Hawau Toyin\\\\Downloads\\\\capsule/train\\\\good\\\\.ipynb_checkpoints\\\\000-checkpoint.png',\n",
       " 'C:\\\\Users\\\\Hawau Toyin\\\\Downloads\\\\capsule/train\\\\good\\\\.ipynb_checkpoints\\\\001-checkpoint.png']"
      ]
     },
     "execution_count": 34,
     "metadata": {},
     "output_type": "execute_result"
    }
   ],
   "source": [
    "imagePaths = list(paths.list_images('C:\\\\Users\\\\Hawau Toyin\\\\Downloads\\\\capsule/train\\\\good'))\n",
    "imagePaths"
   ]
  },
  {
   "cell_type": "code",
   "execution_count": 30,
   "id": "11b694ca-e37a-410c-a184-3e449d215dec",
   "metadata": {
    "jupyter": {
     "source_hidden": true
    },
    "tags": []
   },
   "outputs": [
    {
     "data": {
      "text/plain": [
       "'000.png'"
      ]
     },
     "execution_count": 30,
     "metadata": {},
     "output_type": "execute_result"
    }
   ],
   "source": [
    "imagePaths[0].split('\\\\')[-1]"
   ]
  },
  {
   "cell_type": "code",
   "execution_count": 36,
   "id": "789d5a83-9bfc-4cd2-8817-599b4ce69ca3",
   "metadata": {},
   "outputs": [
    {
     "data": {
      "text/plain": [
       "'train'"
      ]
     },
     "execution_count": 36,
     "metadata": {},
     "output_type": "execute_result"
    }
   ],
   "source": [
    "imagePaths[0].split('/')[1].split('\\\\')[0]"
   ]
  },
  {
   "cell_type": "code",
   "execution_count": null,
   "id": "33b381d5-2930-49c6-99de-842dd6d6c5dd",
   "metadata": {},
   "outputs": [],
   "source": []
  }
 ],
 "metadata": {
  "kernelspec": {
   "display_name": "Python 3 (ipykernel)",
   "language": "python",
   "name": "python3"
  },
  "language_info": {
   "codemirror_mode": {
    "name": "ipython",
    "version": 3
   },
   "file_extension": ".py",
   "mimetype": "text/x-python",
   "name": "python",
   "nbconvert_exporter": "python",
   "pygments_lexer": "ipython3",
   "version": "3.9.7"
  }
 },
 "nbformat": 4,
 "nbformat_minor": 5
}
