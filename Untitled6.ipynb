{
 "cells": [
  {
   "cell_type": "code",
   "execution_count": 15,
   "id": "d8b0373f-8d2f-4a9c-9bdb-dc08b8b23aa8",
   "metadata": {},
   "outputs": [],
   "source": [
    "import cv2 as cv\n",
    "import numpy as np\n",
    "\n",
    "base = cv.imread('C:\\\\Users\\\\Hawau Toyin\\Downloads/capsule/train/good/000.png')\n",
    "test = cv.imread('C:\\\\Users\\\\Hawau Toyin\\Downloads/capsule/train/good/003.png')\n",
    "test2 = cv.imread('C:\\\\Users\\\\Hawau Toyin\\Downloads/capsule/test/crack/001.png')"
   ]
  },
  {
   "cell_type": "code",
   "execution_count": 7,
   "id": "a352f6a6-256e-4922-b2d0-2715fbaa6ffc",
   "metadata": {},
   "outputs": [],
   "source": [
    "hsv_base = cv.cvtColor(base, cv.COLOR_BGR2HSV)\n",
    "hsv_test = cv.cvtColor(test, cv.COLOR_BGR2HSV)\n",
    "hsv_test2 = cv.cvtColor(test2, cv.COLOR_BGR2HSV)"
   ]
  },
  {
   "cell_type": "code",
   "execution_count": 22,
   "id": "0f211ee3-5dbb-4bff-a0dd-d4fbb2be34aa",
   "metadata": {},
   "outputs": [],
   "source": [
    "h_bins = 50\n",
    "s_bins = 60\n",
    "histSize = [h_bins, s_bins]\n",
    "h_ranges = [0, 180]\n",
    "s_ranges = [0, 256]\n",
    "ranges = h_ranges + s_ranges\n",
    "channels = [0, 1]"
   ]
  },
  {
   "cell_type": "code",
   "execution_count": 9,
   "id": "76317351-b029-4451-95cb-e90932a69e30",
   "metadata": {},
   "outputs": [
    {
     "data": {
      "text/plain": [
       "array([[0.8727745 , 0.5173062 , 0.46395   , ..., 0.        , 0.        ,\n",
       "        0.        ],\n",
       "       [0.        , 0.4267942 , 0.33495522, ..., 0.        , 0.        ,\n",
       "        0.        ],\n",
       "       [0.2547274 , 0.44000885, 0.40069667, ..., 0.        , 0.        ,\n",
       "        0.        ],\n",
       "       ...,\n",
       "       [0.17438902, 0.21254008, 0.1764901 , ..., 0.        , 0.        ,\n",
       "        0.        ],\n",
       "       [0.04727414, 0.4808139 , 0.37139222, ..., 0.        , 0.        ,\n",
       "        0.        ],\n",
       "       [0.        , 0.        , 0.16216964, ..., 0.        , 0.        ,\n",
       "        0.        ]], dtype=float32)"
      ]
     },
     "execution_count": 9,
     "metadata": {},
     "output_type": "execute_result"
    }
   ],
   "source": [
    "hist_base = cv.calcHist([hsv_base], channels, None, histSize, ranges, accumulate=False)\n",
    "cv.normalize(hist_base, hist_base, alpha=0, beta=1, norm_type=cv.NORM_MINMAX)\n",
    "hist_test = cv.calcHist([hsv_test], channels, None, histSize, ranges, accumulate=False)\n",
    "cv.normalize(hist_test, hist_test, alpha=0, beta=1, norm_type=cv.NORM_MINMAX)\n",
    "hist_test2 = cv.calcHist([hsv_test2], channels, None, histSize, ranges, accumulate=False)\n",
    "cv.normalize(hist_test2, hist_test2, alpha=0, beta=1, norm_type=cv.NORM_MINMAX)"
   ]
  },
  {
   "cell_type": "code",
   "execution_count": 16,
   "id": "76beba3d-5591-4f3c-973f-50aeb2fbc309",
   "metadata": {},
   "outputs": [
    {
     "ename": "NameError",
     "evalue": "name 'hist_base' is not defined",
     "output_type": "error",
     "traceback": [
      "\u001b[1;31m---------------------------------------------------------------------------\u001b[0m",
      "\u001b[1;31mNameError\u001b[0m                                 Traceback (most recent call last)",
      "\u001b[1;32mC:\\Users\\HAWAUT~1\\AppData\\Local\\Temp/ipykernel_2352/3004728481.py\u001b[0m in \u001b[0;36m<module>\u001b[1;34m\u001b[0m\n\u001b[0;32m      1\u001b[0m \u001b[0mcompare_method\u001b[0m \u001b[1;33m=\u001b[0m \u001b[0mcv\u001b[0m\u001b[1;33m.\u001b[0m\u001b[0mHISTCMP_CORREL\u001b[0m\u001b[1;33m\u001b[0m\u001b[1;33m\u001b[0m\u001b[0m\n\u001b[0;32m      2\u001b[0m \u001b[1;33m\u001b[0m\u001b[0m\n\u001b[1;32m----> 3\u001b[1;33m \u001b[0mbase_base\u001b[0m \u001b[1;33m=\u001b[0m \u001b[0mcv\u001b[0m\u001b[1;33m.\u001b[0m\u001b[0mcompareHist\u001b[0m\u001b[1;33m(\u001b[0m\u001b[0mhist_base\u001b[0m\u001b[1;33m,\u001b[0m \u001b[0mhist_base\u001b[0m\u001b[1;33m,\u001b[0m \u001b[0mcompare_method\u001b[0m\u001b[1;33m)\u001b[0m\u001b[1;33m\u001b[0m\u001b[1;33m\u001b[0m\u001b[0m\n\u001b[0m\u001b[0;32m      4\u001b[0m \u001b[0mbase_test\u001b[0m \u001b[1;33m=\u001b[0m \u001b[0mcv\u001b[0m\u001b[1;33m.\u001b[0m\u001b[0mcompareHist\u001b[0m\u001b[1;33m(\u001b[0m\u001b[0mhist_base\u001b[0m\u001b[1;33m,\u001b[0m \u001b[0mhist_test\u001b[0m\u001b[1;33m,\u001b[0m \u001b[0mcompare_method\u001b[0m\u001b[1;33m)\u001b[0m\u001b[1;33m\u001b[0m\u001b[1;33m\u001b[0m\u001b[0m\n\u001b[0;32m      5\u001b[0m \u001b[0mbase_test2\u001b[0m \u001b[1;33m=\u001b[0m \u001b[0mcv\u001b[0m\u001b[1;33m.\u001b[0m\u001b[0mcompareHist\u001b[0m\u001b[1;33m(\u001b[0m\u001b[0mhist_base\u001b[0m\u001b[1;33m,\u001b[0m \u001b[0mhist_test2\u001b[0m\u001b[1;33m,\u001b[0m \u001b[0mcompare_method\u001b[0m\u001b[1;33m)\u001b[0m\u001b[1;33m\u001b[0m\u001b[1;33m\u001b[0m\u001b[0m\n",
      "\u001b[1;31mNameError\u001b[0m: name 'hist_base' is not defined"
     ]
    }
   ],
   "source": [
    "\n",
    "compare_method = cv.HISTCMP_CORREL\n",
    "\n",
    "base_base = cv.compareHist(hist_base, hist_base, compare_method)\n",
    "base_test = cv.compareHist(hist_base, hist_test, compare_method)\n",
    "base_test2 = cv.compareHist(hist_base, hist_test2, compare_method)\n",
    "\n",
    "print('base_base Similarity = ', base_base)\n",
    "print('base_test Similarity = ', base_test)\n",
    "print('base_test2 Similarity = ', base_test2)\n",
    "\n",
    "# cv.imshow('base',base)\n",
    "# cv.imshow('test1',test)\n",
    "# cv.imshow('test2',test2)\n",
    "# cv.waitKey(0)"
   ]
  },
  {
   "cell_type": "code",
   "execution_count": null,
   "id": "766f6feb-c21b-4aa0-9a77-5874c5e0cff0",
   "metadata": {
    "collapsed": true,
    "jupyter": {
     "outputs_hidden": true
    },
    "tags": []
   },
   "outputs": [
    {
     "ename": "ModuleNotFoundError",
     "evalue": "No module named 'mediapipe'",
     "output_type": "error",
     "traceback": [
      "\u001b[1;31m---------------------------------------------------------------------------\u001b[0m",
      "\u001b[1;31mModuleNotFoundError\u001b[0m                       Traceback (most recent call last)",
      "\u001b[1;32mC:\\Users\\HAWAUT~1\\AppData\\Local\\Temp/ipykernel_2352/3011883430.py\u001b[0m in \u001b[0;36m<module>\u001b[1;34m\u001b[0m\n\u001b[0;32m      1\u001b[0m \u001b[1;32mimport\u001b[0m \u001b[0mcv2\u001b[0m\u001b[1;33m\u001b[0m\u001b[1;33m\u001b[0m\u001b[0m\n\u001b[0;32m      2\u001b[0m \u001b[1;32mimport\u001b[0m \u001b[0mcvzone\u001b[0m\u001b[1;33m\u001b[0m\u001b[1;33m\u001b[0m\u001b[0m\n\u001b[1;32m----> 3\u001b[1;33m \u001b[1;32mfrom\u001b[0m \u001b[0mcvzone\u001b[0m\u001b[1;33m.\u001b[0m\u001b[0mSelfiSegmentationModule\u001b[0m \u001b[1;32mimport\u001b[0m \u001b[0mSelfiSegmentation\u001b[0m\u001b[1;33m\u001b[0m\u001b[1;33m\u001b[0m\u001b[0m\n\u001b[0m\u001b[0;32m      4\u001b[0m \u001b[1;33m\u001b[0m\u001b[0m\n\u001b[0;32m      5\u001b[0m \u001b[0msegmentor\u001b[0m \u001b[1;33m=\u001b[0m \u001b[0mSelfiSegmentation\u001b[0m\u001b[1;33m(\u001b[0m\u001b[1;33m)\u001b[0m\u001b[1;33m\u001b[0m\u001b[1;33m\u001b[0m\u001b[0m\n",
      "\u001b[1;32m~\\anaconda3\\lib\\site-packages\\cvzone\\SelfiSegmentationModule.py\u001b[0m in \u001b[0;36m<module>\u001b[1;34m\u001b[0m\n\u001b[0;32m      1\u001b[0m \u001b[1;32mimport\u001b[0m \u001b[0mcv2\u001b[0m\u001b[1;33m\u001b[0m\u001b[1;33m\u001b[0m\u001b[0m\n\u001b[1;32m----> 2\u001b[1;33m \u001b[1;32mimport\u001b[0m \u001b[0mmediapipe\u001b[0m \u001b[1;32mas\u001b[0m \u001b[0mmp\u001b[0m\u001b[1;33m\u001b[0m\u001b[1;33m\u001b[0m\u001b[0m\n\u001b[0m\u001b[0;32m      3\u001b[0m \u001b[1;32mimport\u001b[0m \u001b[0mnumpy\u001b[0m \u001b[1;32mas\u001b[0m \u001b[0mnp\u001b[0m\u001b[1;33m\u001b[0m\u001b[1;33m\u001b[0m\u001b[0m\n\u001b[0;32m      4\u001b[0m \u001b[1;33m\u001b[0m\u001b[0m\n\u001b[0;32m      5\u001b[0m \u001b[1;33m\u001b[0m\u001b[0m\n",
      "\u001b[1;31mModuleNotFoundError\u001b[0m: No module named 'mediapipe'"
     ]
    }
   ],
   "source": [
    "import cv2\n",
    "import cvzone\n",
    "from cvzone.SelfiSegmentationModule import SelfiSegmentation\n",
    "\n",
    "segmentor = SelfiSegmentation()\n",
    "img = cv2.imread('cat.jpg')\n",
    "img_Out = segmentor.removeBG(img, (255,255,255), threshold=0.99)\n",
    "\n",
    "cv2.imshow('img',img_Out)\n",
    "cv2.waitKey(0)\n",
    "cv2.destroyAllWindows()"
   ]
  },
  {
   "cell_type": "code",
   "execution_count": 17,
   "id": "7182642d-05e2-41ba-95f2-63a3d17d0ea0",
   "metadata": {},
   "outputs": [],
   "source": [
    "import cv2\n",
    "\n",
    "img_src = cv2.imread('C:\\\\Users\\\\Hawau Toyin\\Downloads/capsule/train/good/000.png')\n",
    "cv2.imshow('Original', img_src)\n",
    "\n",
    "gray_img = cv2.cvtColor(img_src, cv2.COLOR_BGR2GRAY)\n",
    "blur_img = cv2.GaussianBlur(gray_img, (3,3), 0)\n",
    "img_edges1 = cv2.Canny(image=blur_img, threshold1=50, threshold2=155)\n",
    "\n",
    "cv2.imshow('Canny Edge Detection', img_edges1)\n",
    "cv2.waitKey(0)\n",
    "cv2.destroyAllWindows()"
   ]
  },
  {
   "cell_type": "code",
   "execution_count": 18,
   "id": "638a4213-4899-457e-a1a8-831db9643070",
   "metadata": {},
   "outputs": [],
   "source": [
    "import cv2\n",
    "\n",
    "img_src = cv2.imread('C:\\\\Users\\\\Hawau Toyin\\Downloads/capsule/train/good/000.png')\n",
    "cv2.imshow('Original', img_src)\n",
    "\n",
    "gray_img = cv2.cvtColor(img_src, cv2.COLOR_BGR2GRAY)\n",
    "blur_img = cv2.GaussianBlur(gray_img, (3,3), 0)\n",
    "img_edges = cv2.Canny(image=blur_img, threshold1=50, threshold2=155)\n",
    "\n",
    "cv2.imshow('Canny Edge Detection', img_edges)\n",
    "cv2.waitKey(0)\n",
    "cv2.destroyAllWindows()"
   ]
  },
  {
   "cell_type": "code",
   "execution_count": 24,
   "id": "7af3173a-0e0b-41e3-8740-916bca26163a",
   "metadata": {},
   "outputs": [],
   "source": [
    "hvc = cv2.cvtColor(img_edges, cv2.COLOR_GRAY2RGB)"
   ]
  },
  {
   "cell_type": "code",
   "execution_count": 26,
   "id": "d899fcca-a1d3-4b35-8956-ff11d47bee0c",
   "metadata": {},
   "outputs": [],
   "source": [
    "hsv_base = cv.cvtColor(hvc, cv.COLOR_BGR2HSV)"
   ]
  },
  {
   "cell_type": "code",
   "execution_count": 27,
   "id": "5c801569-5777-4ff5-bfe1-985504fa204e",
   "metadata": {},
   "outputs": [
    {
     "data": {
      "text/plain": [
       "-1"
      ]
     },
     "execution_count": 27,
     "metadata": {},
     "output_type": "execute_result"
    }
   ],
   "source": [
    "cv2.imshow('RGB', hsv_base)\n",
    "cv2.waitKey(0)"
   ]
  },
  {
   "cell_type": "code",
   "execution_count": 34,
   "id": "d5b04965-55d6-42c7-85f4-e01577e3faec",
   "metadata": {},
   "outputs": [],
   "source": [
    "hist_base = cv.calcHist([hsv_base], channels, None, histSize, ranges, accumulate=False)\n",
    "cv.normalize(hsv_base, hsv_base, alpha=0, beta=1, norm_type=cv.NORM_MINMAX)"
   ]
  },
  {
   "cell_type": "code",
   "execution_count": 28,
   "id": "3d94d2a6-40f6-4afa-9aef-14a7d5163091",
   "metadata": {},
   "outputs": [],
   "source": [
    "hvc1 = cv2.cvtColor(img_edges1, cv2.COLOR_GRAY2RGB)\n",
    "hsv_test = cv.cvtColor(hvc1, cv.COLOR_BGR2HSV)\n"
   ]
  },
  {
   "cell_type": "code",
   "execution_count": 31,
   "id": "f27b3d9f-a302-4a78-88e9-45d55b310c76",
   "metadata": {
    "collapsed": true,
    "jupyter": {
     "outputs_hidden": true
    },
    "tags": []
   },
   "outputs": [
    {
     "data": {
      "text/plain": [
       "array([[[0, 0, 0],\n",
       "        [0, 0, 0],\n",
       "        [0, 0, 0],\n",
       "        ...,\n",
       "        [0, 0, 0],\n",
       "        [0, 0, 0],\n",
       "        [0, 0, 0]],\n",
       "\n",
       "       [[0, 0, 0],\n",
       "        [0, 0, 0],\n",
       "        [0, 0, 0],\n",
       "        ...,\n",
       "        [0, 0, 0],\n",
       "        [0, 0, 0],\n",
       "        [0, 0, 0]],\n",
       "\n",
       "       [[0, 0, 0],\n",
       "        [0, 0, 0],\n",
       "        [0, 0, 0],\n",
       "        ...,\n",
       "        [0, 0, 0],\n",
       "        [0, 0, 0],\n",
       "        [0, 0, 0]],\n",
       "\n",
       "       ...,\n",
       "\n",
       "       [[0, 0, 0],\n",
       "        [0, 0, 0],\n",
       "        [0, 0, 0],\n",
       "        ...,\n",
       "        [0, 0, 0],\n",
       "        [0, 0, 0],\n",
       "        [0, 0, 0]],\n",
       "\n",
       "       [[0, 0, 0],\n",
       "        [0, 0, 0],\n",
       "        [0, 0, 0],\n",
       "        ...,\n",
       "        [0, 0, 0],\n",
       "        [0, 0, 0],\n",
       "        [0, 0, 0]],\n",
       "\n",
       "       [[0, 0, 0],\n",
       "        [0, 0, 0],\n",
       "        [0, 0, 0],\n",
       "        ...,\n",
       "        [0, 0, 0],\n",
       "        [0, 0, 0],\n",
       "        [0, 0, 0]]], dtype=uint8)"
      ]
     },
     "execution_count": 31,
     "metadata": {},
     "output_type": "execute_result"
    }
   ],
   "source": [
    "cv.normalize(hsv_test, hsv_test, alpha=0, beta=1, norm_type=cv.NORM_MINMAX)\n"
   ]
  },
  {
   "cell_type": "code",
   "execution_count": 33,
   "id": "edfe777e-84fd-421d-8fec-ce7eb914f6fb",
   "metadata": {},
   "outputs": [
    {
     "ename": "error",
     "evalue": "OpenCV(4.5.5) D:\\a\\opencv-python\\opencv-python\\opencv\\modules\\imgproc\\src\\histogram.cpp:2030: error: (-215:Assertion failed) H1.type() == H2.type() && H1.depth() == CV_32F in function 'cv::compareHist'\n",
     "output_type": "error",
     "traceback": [
      "\u001b[1;31m---------------------------------------------------------------------------\u001b[0m",
      "\u001b[1;31merror\u001b[0m                                     Traceback (most recent call last)",
      "\u001b[1;32mC:\\Users\\HAWAUT~1\\AppData\\Local\\Temp/ipykernel_2352/1258592158.py\u001b[0m in \u001b[0;36m<module>\u001b[1;34m\u001b[0m\n\u001b[0;32m      1\u001b[0m \u001b[0mcompare_method\u001b[0m \u001b[1;33m=\u001b[0m \u001b[0mcv\u001b[0m\u001b[1;33m.\u001b[0m\u001b[0mHISTCMP_CORREL\u001b[0m\u001b[1;33m\u001b[0m\u001b[1;33m\u001b[0m\u001b[0m\n\u001b[0;32m      2\u001b[0m \u001b[1;33m\u001b[0m\u001b[0m\n\u001b[1;32m----> 3\u001b[1;33m \u001b[0mbase_base\u001b[0m \u001b[1;33m=\u001b[0m \u001b[0mcv\u001b[0m\u001b[1;33m.\u001b[0m\u001b[0mcompareHist\u001b[0m\u001b[1;33m(\u001b[0m\u001b[0mhsv_base\u001b[0m\u001b[1;33m,\u001b[0m \u001b[0mhsv_base\u001b[0m\u001b[1;33m,\u001b[0m \u001b[0mcompare_method\u001b[0m\u001b[1;33m)\u001b[0m\u001b[1;33m\u001b[0m\u001b[1;33m\u001b[0m\u001b[0m\n\u001b[0m\u001b[0;32m      4\u001b[0m \u001b[0mbase_test\u001b[0m \u001b[1;33m=\u001b[0m \u001b[0mcv\u001b[0m\u001b[1;33m.\u001b[0m\u001b[0mcompareHist\u001b[0m\u001b[1;33m(\u001b[0m\u001b[0mhsv_base\u001b[0m\u001b[1;33m,\u001b[0m \u001b[0mhsv_test\u001b[0m\u001b[1;33m,\u001b[0m \u001b[0mcompare_method\u001b[0m\u001b[1;33m)\u001b[0m\u001b[1;33m\u001b[0m\u001b[1;33m\u001b[0m\u001b[0m\n\u001b[0;32m      5\u001b[0m \u001b[1;31m# base_test2 = cv.compareHist(hist_base, hist_test2, compare_method)\u001b[0m\u001b[1;33m\u001b[0m\u001b[1;33m\u001b[0m\u001b[0m\n",
      "\u001b[1;31merror\u001b[0m: OpenCV(4.5.5) D:\\a\\opencv-python\\opencv-python\\opencv\\modules\\imgproc\\src\\histogram.cpp:2030: error: (-215:Assertion failed) H1.type() == H2.type() && H1.depth() == CV_32F in function 'cv::compareHist'\n"
     ]
    }
   ],
   "source": [
    "\n",
    "compare_method = cv.HISTCMP_CORREL\n",
    "\n",
    "base_base = cv.compareHist(hsv_base, hsv_base, compare_method)\n",
    "base_test = cv.compareHist(hsv_base, hsv_test, compare_method)\n",
    "# base_test2 = cv.compareHist(hist_base, hist_test2, compare_method)\n",
    "\n",
    "print('base_base Similarity = ', base_base)\n",
    "print('base_test Similarity = ', base_test)\n",
    "# print('base_test2 Similarity = ', base_test2)"
   ]
  },
  {
   "cell_type": "code",
   "execution_count": null,
   "id": "cf4c9c70-74a0-4c66-88d0-c7e8164128ce",
   "metadata": {},
   "outputs": [],
   "source": []
  }
 ],
 "metadata": {
  "kernelspec": {
   "display_name": "Python 3 (ipykernel)",
   "language": "python",
   "name": "python3"
  },
  "language_info": {
   "codemirror_mode": {
    "name": "ipython",
    "version": 3
   },
   "file_extension": ".py",
   "mimetype": "text/x-python",
   "name": "python",
   "nbconvert_exporter": "python",
   "pygments_lexer": "ipython3",
   "version": "3.9.7"
  }
 },
 "nbformat": 4,
 "nbformat_minor": 5
}
